{
 "cells": [
  {
   "cell_type": "markdown",
   "metadata": {},
   "source": [
    "# Bernoulli random experiment "
   ]
  },
  {
   "cell_type": "raw",
   "metadata": {},
   "source": [
    "Suatu eksperimen dikatakan distribusi Bernoulli , jika memenuhi syarat-syarat sebagai berikut  :\n",
    "1.\tEksperimen terdiri dari 2 peristiwa yaitu peristiwa yang diperhatikan (biasa disebut peristiwa berhasil) dan  peristiwa yang tidak perhatikan (biasa di sebut peristiwa gagal)\n",
    "2.\tEksperimennya hanya dilakukan sekali saja\n"
   ]
  },
  {
   "cell_type": "code",
   "execution_count": 9,
   "metadata": {},
   "outputs": [
    {
     "data": {
      "text/plain": [
       "array([1])"
      ]
     },
     "execution_count": 9,
     "metadata": {},
     "output_type": "execute_result"
    }
   ],
   "source": [
    "#Misal percobaan melempar 1 mata uang  dan peluang  sukses sebesar = 50%\n",
    "\n",
    "from scipy.stats import bernoulli\n",
    "bernoulli.rvs(p=0.5, size = 1)\n",
    "\n"
   ]
  },
  {
   "cell_type": "code",
   "execution_count": null,
   "metadata": {},
   "outputs": [],
   "source": [
    "#keterangan : \n",
    "#p = peluang berhasil\n",
    "#size = banyaknya mata uang yang di lempar\n"
   ]
  },
  {
   "cell_type": "code",
   "execution_count": 3,
   "metadata": {},
   "outputs": [
    {
     "data": {
      "text/plain": [
       "array([0, 1, 0, 1, 1, 1, 1, 0, 0, 0])"
      ]
     },
     "execution_count": 3,
     "metadata": {},
     "output_type": "execute_result"
    }
   ],
   "source": [
    "#Misal banyaknya mata uang yang dilempar di ubah menjadi 10\n",
    "from scipy.stats import bernoulli\n",
    "bernoulli.rvs(p=0.5, size = 10)\n"
   ]
  },
  {
   "cell_type": "code",
   "execution_count": 4,
   "metadata": {},
   "outputs": [
    {
     "data": {
      "text/plain": [
       "5"
      ]
     },
     "execution_count": 4,
     "metadata": {},
     "output_type": "execute_result"
    }
   ],
   "source": [
    "#Untuk menghitung jumlah head atau tail yang muncul \n",
    "#How many heads\n",
    "sum(bernoulli.rvs(p=0.5, size = 10))\n"
   ]
  },
  {
   "cell_type": "code",
   "execution_count": 5,
   "metadata": {},
   "outputs": [
    {
     "data": {
      "text/plain": [
       "3"
      ]
     },
     "execution_count": 5,
     "metadata": {},
     "output_type": "execute_result"
    }
   ],
   "source": [
    "\n",
    "#another draw\n",
    "\n",
    "sum(bernoulli.rvs(p=0.5, size = 10))\n"
   ]
  },
  {
   "cell_type": "markdown",
   "metadata": {},
   "source": [
    "## Binomial random variable\n"
   ]
  },
  {
   "cell_type": "raw",
   "metadata": {},
   "source": [
    "\n",
    "Sebuah eksperimen dikatakan distribusi binomial jika jika memenuhi syarat-syarat sebagai berikut  ::\n",
    "1.\tEksperimen terdiri dari 2 peristiwa seperti sukses dan gagal\n",
    "2.\tEksperimen diulang beberapa kali dan ditentukan banyaknya pengulangannya\n",
    "3.\tPeluang terjadinya peristwa berhasil dan gagal pada setiap pengulangan eksperimen bersifat tetap\n",
    "4.\tSetiap pengulangan eksperimen bersifat bebas\n",
    "\n"
   ]
  },
  {
   "cell_type": "code",
   "execution_count": 6,
   "metadata": {},
   "outputs": [
    {
     "data": {
      "text/plain": [
       "array([3])"
      ]
     },
     "execution_count": 6,
     "metadata": {},
     "output_type": "execute_result"
    }
   ],
   "source": [
    "#Misal percobaan melempar 1 mata uang dengan experiment sebanyak 10 kali, peluang berhasil = 50%.\n",
    "from scipy.stats import binom\n",
    "binom.rvs(n=10, p=0.5, size=1)\n",
    "\n",
    "\n"
   ]
  },
  {
   "cell_type": "code",
   "execution_count": null,
   "metadata": {},
   "outputs": [],
   "source": [
    "#keterangan : \n",
    "#n = banyaknya eksperimen\n",
    "#p = peluang berhasil \n",
    "#size = banyaknya mata uang yang di lempar"
   ]
  },
  {
   "cell_type": "code",
   "execution_count": 7,
   "metadata": {},
   "outputs": [
    {
     "data": {
      "text/plain": [
       "array([6, 5, 4, 7, 5, 5, 5, 5, 6, 5])"
      ]
     },
     "execution_count": 7,
     "metadata": {},
     "output_type": "execute_result"
    }
   ],
   "source": [
    "#Misal percobaan melempar 10 mata uang dengan experiment sebanyak 10 kali, peluang berhasil = 50%.\n",
    "from scipy.stats import binom\n",
    "binom.rvs(n=10, p=0.5, size=10)\n",
    "\n"
   ]
  },
  {
   "cell_type": "markdown",
   "metadata": {},
   "source": [
    "### Random generator seed\n"
   ]
  },
  {
   "cell_type": "raw",
   "metadata": {},
   "source": [
    "np.random.seed(42) digunakan untuk  generate nilai random . jadi nilai random yg di generate kapanpun dan dikomputer manapun akan tetap sama.\n",
    "\n"
   ]
  },
  {
   "cell_type": "code",
   "execution_count": 24,
   "metadata": {},
   "outputs": [
    {
     "data": {
      "text/plain": [
       "array([4])"
      ]
     },
     "execution_count": 24,
     "metadata": {},
     "output_type": "execute_result"
    }
   ],
   "source": [
    "\n",
    "from scipy.stats import binom\n",
    "import numpy as np\n",
    "\n",
    "\n",
    "np.random.seed(42)\n",
    "\n",
    "binom.rvs(n=10, p=0.5, size=1)"
   ]
  },
  {
   "cell_type": "code",
   "execution_count": 7,
   "metadata": {},
   "outputs": [
    {
     "data": {
      "text/plain": [
       "array([4])"
      ]
     },
     "execution_count": 7,
     "metadata": {},
     "output_type": "execute_result"
    }
   ],
   "source": [
    "from scipy.stats import binom\n",
    "import numpy as np\n",
    "\n",
    "\n",
    "np.random.seed(42)\n",
    "\n",
    "binom.rvs(n=10, p=0.5, size=1)\n"
   ]
  },
  {
   "cell_type": "markdown",
   "metadata": {},
   "source": [
    "## Probability mass and distribution functions"
   ]
  },
  {
   "cell_type": "markdown",
   "metadata": {},
   "source": [
    "### Probability mass functions"
   ]
  },
  {
   "cell_type": "raw",
   "metadata": {},
   "source": [
    "Probability mass function (pmf) atau fumgsi masa probabilitas adalah fungsi yang memberikan probabilitas bahwa variabel acak diskrit persis sama dengan beberapa nilai (Source : Wikipedia) \n",
    "\n"
   ]
  },
  {
   "cell_type": "code",
   "execution_count": 8,
   "metadata": {},
   "outputs": [
    {
     "data": {
      "text/plain": [
       "0.04394531249999999"
      ]
     },
     "execution_count": 8,
     "metadata": {},
     "output_type": "execute_result"
    }
   ],
   "source": [
    "#Misal kita ingin mengetahui peluang mendapatkan tepat 2 kepala dengan eksperimen sebanyak 10 kali \n",
    "#dan peluang berhasil sebanyak 50%.\n",
    "\n",
    "# Probability of 2 heads after 10 throws with a fair coin\n",
    "from scipy.stats import binom\n",
    "binom.pmf(k = 2, n = 10, p = 0.5)\n",
    "\n"
   ]
  },
  {
   "cell_type": "raw",
   "metadata": {},
   "source": [
    "keterangan : \n",
    "k = banyaknya keberhasilan yg d harapkan\n",
    "n = banyaknya eksperimen\n",
    "p = peluang sukses \n",
    "\n"
   ]
  },
  {
   "cell_type": "code",
   "execution_count": 8,
   "metadata": {},
   "outputs": [
    {
     "data": {
      "text/plain": [
       "0.24609375000000025"
      ]
     },
     "execution_count": 8,
     "metadata": {},
     "output_type": "execute_result"
    }
   ],
   "source": [
    "#Misal kita ingin mengetahui peluang mendapatkan tepat 5 kepala dengan eksperimen sebanyak 10 kali \n",
    "#dan peluang berhasil sebanyak 50%.\n",
    "\n",
    "# Probability of 2 heads after 10 throws with a fair coin\n",
    "from scipy.stats import binom\n",
    "binom.pmf(k = 5, n = 10, p = 0.5)\n"
   ]
  },
  {
   "cell_type": "code",
   "execution_count": 9,
   "metadata": {},
   "outputs": [
    {
     "data": {
      "text/plain": [
       "1.30262271314453e-05"
      ]
     },
     "execution_count": 9,
     "metadata": {},
     "output_type": "execute_result"
    }
   ],
   "source": [
    "#Misal kita ingin mengetahui peluang mendapatkan tepat 50 kepala dengan eksperimen sebanyak 100 kali \n",
    "#dan peluang berhasil sebanyak 30%.\n",
    "\n",
    "# Probability of 50 heads after 100 throws with p=0.3\n",
    "\n",
    "from scipy.stats import binom\n",
    "binom.pmf(k = 50, n = 100, p = 0.3)\n"
   ]
  },
  {
   "cell_type": "code",
   "execution_count": 11,
   "metadata": {},
   "outputs": [
    {
     "data": {
      "text/plain": [
       "0.0467796823527298"
      ]
     },
     "execution_count": 11,
     "metadata": {},
     "output_type": "execute_result"
    }
   ],
   "source": [
    "#Misal kita ingin mengetahui peluang mendapatkan tepat 65 kepala dengan eksperimen sebanyak 100 kali \n",
    "#dan peluang berhasil sebanyak 70%.\n",
    "\n",
    "from scipy.stats import binom\n",
    "binom.pmf(k = 65, n = 100, p = 0.7)\n",
    "\n",
    "\n"
   ]
  },
  {
   "cell_type": "markdown",
   "metadata": {},
   "source": [
    "### Cumulative distribution function (cdf) "
   ]
  },
  {
   "cell_type": "markdown",
   "metadata": {},
   "source": [
    "### Mencari niai peluang kurang dari"
   ]
  },
  {
   "cell_type": "raw",
   "metadata": {},
   "source": [
    "Cumulative distribution function (cdf)  atau fumgsi distribusi kumulatif adalah fungsi probabilitas yang akan mengambil nilai kurang dari atau sama dengan (Wikipedia)"
   ]
  },
  {
   "cell_type": "code",
   "execution_count": 12,
   "metadata": {},
   "outputs": [
    {
     "data": {
      "text/plain": [
       "0.6230468749999999"
      ]
     },
     "execution_count": 12,
     "metadata": {},
     "output_type": "execute_result"
    }
   ],
   "source": [
    "#Misal kita ingin mengetahui peluang mendapatkan 5 kepala atau kurang  dengan eksperimen sebanyak 10 kali \n",
    "#dan peluang berhasil  sebanyak 50%.\n",
    "\n",
    "# Probability of 5 heads or less after 10 throws with a fair coin\n",
    "from scipy.stats import binom\n",
    "binom.cdf(k = 5, n = 10, p = 0.5)\n"
   ]
  },
  {
   "cell_type": "raw",
   "metadata": {},
   "source": [
    "keterangan : \n",
    "k = banyaknya keberhasilan yg d harapkan\n",
    "n = banyaknya eksperimen\n",
    "p = peluang sukses \n",
    "\n",
    "\n",
    "Note :\n",
    "fumgsi distribusi kumulatif ini akan menghitung mulai dari k=0 sampai dengan nilai k yang ditentukan. \n",
    "Berbeda dengan nilai fungsi masa probabilitas yang menghitung tepat di nilai k. "
   ]
  },
  {
   "cell_type": "code",
   "execution_count": 14,
   "metadata": {},
   "outputs": [
    {
     "data": {
      "text/plain": [
       "0.9999909653138043"
      ]
     },
     "execution_count": 14,
     "metadata": {},
     "output_type": "execute_result"
    }
   ],
   "source": [
    "#Misal kita ingin mengetahui peluang mendapatkan 50 kepala atau kurang  dengan eksperimen sebanyak 100 kali \n",
    "#dan peluang berhasil  sebanyak 30%.\n",
    "\n",
    "# Probability of 50 heads or less after 100 throws with p=0.3\n",
    "from scipy.stats import binom\n",
    "\n",
    "binom.cdf(k=50, n=100, p=0.3)"
   ]
  },
  {
   "cell_type": "markdown",
   "metadata": {},
   "source": [
    "### Mencari nilai peluang lebih dari "
   ]
  },
  {
   "cell_type": "code",
   "execution_count": 15,
   "metadata": {},
   "outputs": [
    {
     "data": {
      "text/plain": [
       "0.9875015928335618"
      ]
     },
     "execution_count": 15,
     "metadata": {},
     "output_type": "execute_result"
    }
   ],
   "source": [
    "#Misal kita ingin mengetahui peluang mendapatkan 59 kepala atau lebih   dengan eksperimen sebanyak 100 kali \n",
    "#dan peluang berhasil  sebanyak 70%.\n",
    "\n",
    "\n",
    "# Probability of more than 59 heads after 100 throws with p=0.7\n",
    "\n",
    "1-binom.cdf(k=59,n=100,p=0.7)\n"
   ]
  },
  {
   "cell_type": "raw",
   "metadata": {},
   "source": [
    "keterangan : \n",
    "k = banyaknya keberhasilan yg d harapkan\n",
    "n = banyaknya eksperimen\n",
    "p = peluang sukses  \n"
   ]
  },
  {
   "cell_type": "markdown",
   "metadata": {},
   "source": [
    "### Expected Value  "
   ]
  },
  {
   "cell_type": "markdown",
   "metadata": {},
   "source": [
    "Expected Value atau nilai harapan suatu variabel random menggambarkan nilai yang diharapkan akan terjadi dari suatu eksperimen random atau kecenderungan hasil yang akan tejadi."
   ]
  },
  {
   "cell_type": "markdown",
   "metadata": {},
   "source": [
    "### Arithmetic mean"
   ]
  },
  {
   "cell_type": "markdown",
   "metadata": {},
   "source": [
    "Di python kita menggunakan scipy.stats.describe() untuk mendapatkan nilai rata-rata aritmatika"
   ]
  },
  {
   "cell_type": "code",
   "execution_count": 25,
   "metadata": {},
   "outputs": [
    {
     "data": {
      "text/plain": [
       "0.5"
      ]
     },
     "execution_count": 25,
     "metadata": {},
     "output_type": "execute_result"
    }
   ],
   "source": [
    "#Misal kita mencari nilai rata-rata dari  0 dan 1 \n",
    "from scipy.stats import describe\n",
    "describe([0,1]).mean"
   ]
  },
  {
   "cell_type": "markdown",
   "metadata": {},
   "source": [
    "## Variance"
   ]
  },
  {
   "cell_type": "markdown",
   "metadata": {},
   "source": [
    "Variance atau variansi digunakan untuk mendesripsikan tentang pusat sebaran.Nilai harapan tidak menjelaskan bentuk sebaran atau ragam suatu sebaran"
   ]
  },
  {
   "cell_type": "markdown",
   "metadata": {},
   "source": [
    "Di python kita menggunakan scipy.stats.describe() untuk mendapatkan nilai variansi "
   ]
  },
  {
   "cell_type": "code",
   "execution_count": 18,
   "metadata": {},
   "outputs": [
    {
     "data": {
      "text/plain": [
       "0.5"
      ]
     },
     "execution_count": 18,
     "metadata": {},
     "output_type": "execute_result"
    }
   ],
   "source": [
    "\n",
    "from scipy.stats import describe\n",
    "describe ([0,1]).variance\n"
   ]
  },
  {
   "cell_type": "markdown",
   "metadata": {},
   "source": [
    "# Binomial distribution expected value and variance"
   ]
  },
  {
   "cell_type": "markdown",
   "metadata": {},
   "source": [
    "Di python kita menggunakan binom.stats() untuk mendapatkan nilai harapan dan variansi dari distribusi binomial,"
   ]
  },
  {
   "cell_type": "markdown",
   "metadata": {},
   "source": [
    "E(X) = n × p\n"
   ]
  },
  {
   "cell_type": "markdown",
   "metadata": {},
   "source": [
    "Var(X) = n × p × (1 − p)"
   ]
  },
  {
   "cell_type": "raw",
   "metadata": {},
   "source": [
    "keterangan :\n",
    "n = banyaknya percobaan\n",
    "p = peluang\n"
   ]
  },
  {
   "cell_type": "raw",
   "metadata": {},
   "source": [
    "Misal n = 10 dan p = 0.5\n",
    "E(X) = 10*5\n",
    "= 5\n",
    "\n"
   ]
  },
  {
   "cell_type": "raw",
   "metadata": {},
   "source": [
    "Var(X) = 10 × 0.5 × (1 − 0.5)\n",
    "= 2.5\n"
   ]
  },
  {
   "cell_type": "code",
   "execution_count": 21,
   "metadata": {},
   "outputs": [
    {
     "data": {
      "text/plain": [
       "(array(5.), array(2.5))"
      ]
     },
     "execution_count": 21,
     "metadata": {},
     "output_type": "execute_result"
    }
   ],
   "source": [
    "#Menggunakan python\n",
    "from scipy.stats import binom\n",
    "binom.stats(n=10, p = 0.5)\n"
   ]
  },
  {
   "cell_type": "raw",
   "metadata": {},
   "source": [
    "keterangan :\n",
    "Mean : array(5.)\n",
    "Variansi : array(2.5)\n"
   ]
  },
  {
   "cell_type": "code",
   "execution_count": 19,
   "metadata": {},
   "outputs": [
    {
     "data": {
      "text/plain": [
       "(array(0.3), array(0.21))"
      ]
     },
     "execution_count": 19,
     "metadata": {},
     "output_type": "execute_result"
    }
   ],
   "source": [
    "#Misal kita ingin mencari nilai harapan dan variansi dari eksperimen sebanyak 1 kali dan peluang= 0.3\n",
    "from scipy.stats import binom\n",
    "binom.stats(n=1, p = 0.3)\n"
   ]
  },
  {
   "cell_type": "raw",
   "metadata": {},
   "source": [
    "Mean : array(0.3)\n",
    "Variansi : array(0.21)\n"
   ]
  },
  {
   "cell_type": "code",
   "execution_count": 23,
   "metadata": {},
   "outputs": [
    {
     "data": {
      "text/plain": [
       "(array(5.), array(2.5))"
      ]
     },
     "execution_count": 23,
     "metadata": {},
     "output_type": "execute_result"
    }
   ],
   "source": [
    "#Misal kita ingin mencari nilai harapan dan variansi dari eksperimen sebanyak 10 kali dan peluang= 0.5\n",
    "from scipy.stats import binom\n",
    "binom.stats(n=10, p = 0.5)"
   ]
  },
  {
   "cell_type": "raw",
   "metadata": {},
   "source": [
    "Mean : array(5.)\n",
    "Variansi : array(2.5)"
   ]
  }
 ],
 "metadata": {
  "kernelspec": {
   "display_name": "Python 3",
   "language": "python",
   "name": "python3"
  },
  "language_info": {
   "codemirror_mode": {
    "name": "ipython",
    "version": 3
   },
   "file_extension": ".py",
   "mimetype": "text/x-python",
   "name": "python",
   "nbconvert_exporter": "python",
   "pygments_lexer": "ipython3",
   "version": "3.7.3"
  }
 },
 "nbformat": 4,
 "nbformat_minor": 2
}
